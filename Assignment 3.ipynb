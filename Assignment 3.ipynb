{
 "cells": [
  {
   "cell_type": "markdown",
   "id": "0f418fe2",
   "metadata": {},
   "source": [
    "Question 1\n",
    "Given an integer array nums of length n and an integer target, find three integers\n",
    "in nums such that the sum is closest to the target.\n",
    "Return the sum of the three integers.\n",
    "\n",
    "You may assume that each input would have exactly one solution.\n",
    "\n",
    "Example 1:\n",
    "Input: nums = [-1,2,1,-4], target = 1\n",
    "Output: 2\n",
    "\n",
    "Explanation: The sum that is closest to the target is 2. (-1 + 2 + 1 = 2)."
   ]
  },
  {
   "cell_type": "code",
   "execution_count": 101,
   "id": "09c2d7b5",
   "metadata": {},
   "outputs": [
    {
     "data": {
      "text/plain": [
       "2"
      ]
     },
     "execution_count": 101,
     "metadata": {},
     "output_type": "execute_result"
    }
   ],
   "source": [
    "nums = [-1,2,1,-4]\n",
    "target = 1\n",
    "\n",
    "def assignment1(nums):\n",
    "    nums.sort()\n",
    "    n = len(nums)\n",
    "    diff = float('inf')\n",
    "    res = 0\n",
    "    for i in range(n):\n",
    "        left = i + 1\n",
    "        right = n - 1\n",
    "        while(left < right):\n",
    "            su = nums[i] + nums[left] + nums[right]\n",
    "            if abs(su-target) < diff:\n",
    "                diff = abs(su-target)\n",
    "                res = su\n",
    "            if su == target:\n",
    "                return res\n",
    "            elif su<target:\n",
    "                left += 1\n",
    "            else:\n",
    "                right -= 1\n",
    "    return res\n",
    "    \n",
    "assignment1(nums)"
   ]
  },
  {
   "cell_type": "markdown",
   "id": "1fe40247",
   "metadata": {},
   "source": [
    "Algorithm : \n",
    "First we are sorting the list.\n",
    "2 pointer approch <br>\n",
    "$Time Complexity :$ O(n + nlogn) <br>\n",
    "$Space Complexity :$ O(1)"
   ]
  },
  {
   "cell_type": "markdown",
   "id": "c594c358",
   "metadata": {},
   "source": [
    "Question 2\n",
    "Given an array nums of n integers, return an array of all the unique quadruplets\n",
    "[nums[a], nums[b], nums[c], nums[d]] such that:\n",
    "           ● 0 <= a, b, c, d < n\n",
    "           ● a, b, c, and d are distinct.\n",
    "           ● nums[a] + nums[b] + nums[c] + nums[d] == target\n",
    "\n",
    "You may return the answer in any order.\n",
    "\n",
    "Example 1:\n",
    "Input: nums = [1,0,-1,0,-2,2], target = 0\n",
    "Output: [[-2,-1,1,2],[-2,0,0,2],[-1,0,0,1]]"
   ]
  },
  {
   "cell_type": "code",
   "execution_count": 102,
   "id": "92b6fdfa",
   "metadata": {},
   "outputs": [
    {
     "data": {
      "text/plain": [
       "[[-2, -1, 1, 2], [-2, 0, 0, 2], [-1, 0, 0, 1]]"
      ]
     },
     "execution_count": 102,
     "metadata": {},
     "output_type": "execute_result"
    }
   ],
   "source": [
    "nums = [1,0,-1,0,-2,2]\n",
    "target = 0\n",
    "\n",
    "def kSum(nums, target, k):\n",
    "    res = []\n",
    "\n",
    "    # If we have run out of numbers to add, return res.\n",
    "    if not nums:\n",
    "        return res\n",
    "\n",
    "    # There are k remaining values to add to the sum. The \n",
    "    # average of these values is at least target // k.\n",
    "    average_value = target // k\n",
    "\n",
    "    # We cannot obtain a sum of target if the smallest value\n",
    "    # in nums is greater than target // k or if the largest \n",
    "    # value in nums is smaller than target // k.\n",
    "    if average_value < nums[0] or nums[-1] < average_value:\n",
    "        return res\n",
    "\n",
    "    if k == 2:\n",
    "        return twoSum(nums, target)\n",
    "\n",
    "    for i in range(len(nums)):\n",
    "        if i == 0 or nums[i - 1] != nums[i]:\n",
    "            for subset in kSum(nums[i + 1:], target - nums[i], k - 1):\n",
    "                res.append([nums[i]] + subset)\n",
    "\n",
    "    return res\n",
    "\n",
    "def twoSum(nums, target):\n",
    "    res = []\n",
    "    lo, hi = 0, len(nums) - 1\n",
    "\n",
    "    while (lo < hi):\n",
    "        curr_sum = nums[lo] + nums[hi]\n",
    "        if curr_sum < target or (lo > 0 and nums[lo] == nums[lo - 1]):\n",
    "            lo += 1\n",
    "        elif curr_sum > target or (hi < len(nums) - 1 and nums[hi] == nums[hi + 1]):\n",
    "            hi -= 1\n",
    "        else:\n",
    "            res.append([nums[lo], nums[hi]])\n",
    "            lo += 1\n",
    "            hi -= 1\n",
    "\n",
    "    return res\n",
    "\n",
    "\n",
    "nums.sort()\n",
    "kSum(nums, target, 4)\n"
   ]
  },
  {
   "cell_type": "markdown",
   "id": "bd6915c6",
   "metadata": {},
   "source": [
    "<aside>\n",
    "💡 **Question 3**\n",
    "A permutation of an array of integers is an arrangement of its members into a\n",
    "sequence or linear order.\n",
    "\n",
    "For example, for arr = [1,2,3], the following are all the permutations of arr:\n",
    "[1,2,3], [1,3,2], [2, 1, 3], [2, 3, 1], [3,1,2], [3,2,1].\n",
    "\n",
    "The next permutation of an array of integers is the next lexicographically greater\n",
    "permutation of its integer. More formally, if all the permutations of the array are\n",
    "sorted in one container according to their lexicographical order, then the next\n",
    "permutation of that array is the permutation that follows it in the sorted container.\n",
    "\n",
    "If such an arrangement is not possible, the array must be rearranged as the\n",
    "lowest possible order (i.e., sorted in ascending order).\n",
    "\n",
    "● For example, the next permutation of arr = [1,2,3] is [1,3,2].\n",
    "● Similarly, the next permutation of arr = [2,3,1] is [3,1,2].\n",
    "● While the next permutation of arr = [3,2,1] is [1,2,3] because [3,2,1] does not\n",
    "have a lexicographical larger rearrangement.\n",
    "\n",
    "Given an array of integers nums, find the next permutation of nums.\n",
    "The replacement must be in place and use only constant extra memory.\n",
    "\n",
    "**Example 1:**\n",
    "Input: nums = [1,2,3]\n",
    "Output: [1,3,2]\n",
    "\n",
    "</aside>"
   ]
  },
  {
   "cell_type": "code",
   "execution_count": 103,
   "id": "d8f81f94",
   "metadata": {},
   "outputs": [
    {
     "data": {
      "text/plain": [
       "[1, 3, 2]"
      ]
     },
     "execution_count": 103,
     "metadata": {},
     "output_type": "execute_result"
    }
   ],
   "source": [
    "\n",
    "def nextPermutation(nums):\n",
    "    \"\"\"\n",
    "    Do not return anything, modify nums in-place instead.\n",
    "    \"\"\"\n",
    "    for curr in reversed(range(0, len(nums) - 1)):\n",
    "        if nums[curr] >= nums[curr + 1]:\n",
    "            continue;\n",
    "\n",
    "        next = curr + 1;\n",
    "        while next < len(nums) and nums[next] > nums[curr]:\n",
    "            next += 1;\n",
    "\n",
    "        nums[curr], nums[next - 1] = nums[next - 1], nums[curr];\n",
    "\n",
    "        nums[curr+1:] = reversed(nums[curr+1:])\n",
    "\n",
    "        return nums;\n",
    "\n",
    "    return nums.sort();\n",
    "    \n",
    "nums = [1,2,3] \n",
    "nextPermutation(nums)"
   ]
  },
  {
   "cell_type": "markdown",
   "id": "2cf74772",
   "metadata": {},
   "source": [
    "Question 4\n",
    "Given a sorted array of distinct integers and a target value, return the index if the\n",
    "target is found. If not, return the index where it would be if it were inserted in\n",
    "order.\n",
    "\n",
    "You must write an algorithm with O(log n) runtime complexity.\n",
    "\n",
    "Example 1:\n",
    "Input: nums = [1,3,5,6], target = 5\n",
    "Output: 2"
   ]
  },
  {
   "cell_type": "code",
   "execution_count": 104,
   "id": "a2629cd4",
   "metadata": {},
   "outputs": [
    {
     "data": {
      "text/plain": [
       "2"
      ]
     },
     "execution_count": 104,
     "metadata": {},
     "output_type": "execute_result"
    }
   ],
   "source": [
    "nums = [1,3,5,6]\n",
    "target = 5\n",
    "def binary_search(nums, target):\n",
    "    low = 0\n",
    "    high = len(nums)-1\n",
    "    while (low < high):\n",
    "        mid = low+ (high-low)//2\n",
    "        if target < nums[mid]:\n",
    "            high = mid -1\n",
    "        elif target > nums[mid]:\n",
    "            low = low + 1\n",
    "        else:\n",
    "            return mid\n",
    "    return -1\n",
    "        \n",
    "binary_search(nums, target)"
   ]
  },
  {
   "cell_type": "markdown",
   "id": "10671b16",
   "metadata": {},
   "source": [
    "<aside>\n",
    "💡 **Question 5**\n",
    "You are given a large integer represented as an integer array digits, where each\n",
    "digits[i] is the ith digit of the integer. The digits are ordered from most significant\n",
    "to least significant in left-to-right order. The large integer does not contain any\n",
    "leading 0's.\n",
    "\n",
    "Increment the large integer by one and return the resulting array of digits.\n",
    "\n",
    "**Example 1:**\n",
    "Input: digits = [1,2,3]\n",
    "Output: [1,2,4]\n",
    "\n",
    "**Explanation:** The array represents the integer 123.\n",
    "Incrementing by one gives 123 + 1 = 124.\n",
    "Thus, the result should be [1,2,4].\n",
    "\n",
    "</aside>"
   ]
  },
  {
   "cell_type": "code",
   "execution_count": 105,
   "id": "b890921c",
   "metadata": {},
   "outputs": [
    {
     "data": {
      "text/plain": [
       "[1, 0, 0]"
      ]
     },
     "execution_count": 105,
     "metadata": {},
     "output_type": "execute_result"
    }
   ],
   "source": [
    "digits = [9,9]\n",
    "n = len(digits)\n",
    "\n",
    "def ss(digits):\n",
    "    carry = 0\n",
    "    n = len(digits)\n",
    "    for i in reversed(range(n)):\n",
    "        val = digits[i] + 1 if i==n-1 else digits[i] + carry\n",
    "        if val <= 9:\n",
    "            digits[i] = val\n",
    "            carry = 0\n",
    "        else:\n",
    "            carry = val//10\n",
    "            val = val%10\n",
    "            digits[i] = val\n",
    "    if carry:\n",
    "        digits.insert(0,carry)\n",
    "    return digits\n",
    "ss(digits)"
   ]
  },
  {
   "cell_type": "markdown",
   "id": "70087efa",
   "metadata": {},
   "source": [
    "Question 6\n",
    "Given a non-empty array of integers nums, every element appears twice except\n",
    "for one. Find that single one.\n",
    "\n",
    "You must implement a solution with a linear runtime complexity and use only\n",
    "constant extra space.\n",
    "\n",
    "Example 1:\n",
    "Input: nums = [2,2,1]\n",
    "Output: 1"
   ]
  },
  {
   "cell_type": "code",
   "execution_count": 106,
   "id": "42c00a72",
   "metadata": {},
   "outputs": [
    {
     "data": {
      "text/plain": [
       "1"
      ]
     },
     "execution_count": 106,
     "metadata": {},
     "output_type": "execute_result"
    }
   ],
   "source": [
    "def assignment6(nums):\n",
    "    a = 0\n",
    "    for i in nums:\n",
    "        a ^= i\n",
    "    return a\n",
    "\n",
    "nums = [2,2,1,10,5,10,5]\n",
    "assignment6(nums)"
   ]
  },
  {
   "cell_type": "markdown",
   "id": "cc2e6113",
   "metadata": {},
   "source": [
    "Question 7\n",
    "You are given an inclusive range [lower, upper] and a sorted unique integer array\n",
    "nums, where all elements are within the inclusive range.\n",
    "\n",
    "A number x is considered missing if x is in the range [lower, upper] and x is not in\n",
    "nums.\n",
    "\n",
    "Return the shortest sorted list of ranges that exactly covers all the missing\n",
    "numbers. That is, no element of nums is included in any of the ranges, and each\n",
    "missing number is covered by one of the ranges.\n",
    "\n",
    "Example 1:\n",
    "Input: nums = [0,1,3,50,75], lower = 0, upper = 99\n",
    "Output: [[2,2],[4,49],[51,74],[76,99]]\n",
    "\n",
    "Explanation: The ranges are:\n",
    "[2,2]\n",
    "[4,49]\n",
    "[51,74]\n",
    "[76,99]"
   ]
  },
  {
   "cell_type": "code",
   "execution_count": 107,
   "id": "81992041",
   "metadata": {},
   "outputs": [
    {
     "name": "stdout",
     "output_type": "stream",
     "text": [
      "[[2, 2], [4, 49], [51, 74], [76, 99]]\n"
     ]
    }
   ],
   "source": [
    "nums = [0,1,3,50,75]\n",
    "lower = 0\n",
    "upper = 99\n",
    "res = []\n",
    "for i in range(len(nums)):\n",
    "    if nums[i] == lower and i==0:\n",
    "        continue\n",
    "    if (nums[i] > lower) and (nums[i-1] == nums[i]-1):\n",
    "        continue\n",
    "    else:\n",
    "        ll = nums[i-1]+1\n",
    "        uu = nums[i] - 1 if i != len(nums) else upper\n",
    "        res.append([ll,uu])\n",
    "\n",
    "if nums[-1] != upper:\n",
    "    res.append([nums[-1]+1, upper])\n",
    "\n",
    "print(res)"
   ]
  },
  {
   "cell_type": "markdown",
   "id": "cfd15902",
   "metadata": {},
   "source": [
    "Question 8\n",
    "Given an array of meeting time intervals where intervals[i] = [starti, endi],\n",
    "determine if a person could attend all meetings.\n",
    "\n",
    "Example 1:\n",
    "Input: intervals = [[0,30],[5,10],[15,20]]\n",
    "Output: false"
   ]
  },
  {
   "cell_type": "code",
   "execution_count": 108,
   "id": "0816947c",
   "metadata": {},
   "outputs": [
    {
     "data": {
      "text/plain": [
       "True"
      ]
     },
     "execution_count": 108,
     "metadata": {},
     "output_type": "execute_result"
    }
   ],
   "source": [
    "intervals = [[0,30],[5,10],[15,20]]\n",
    "intervals = [[4,6],[7,10]]\n",
    "\n",
    "\n",
    "def assignment8(intervals):\n",
    "    intervals.sort(key=lambda a: a[0])\n",
    "    prev = intervals[0]\n",
    "    for i in range(1,len(intervals)):\n",
    "        if prev[0] < intervals[i][0] > prev[1]:\n",
    "            #print(prev[0], intervals[i][0], prev[1])\n",
    "            prev = intervals[i]\n",
    "            continue\n",
    "        else:\n",
    "            #print(prev[0], intervals[i][0], prev[1])\n",
    "            return False\n",
    "    return True\n",
    "\n",
    "assignment8(intervals)"
   ]
  },
  {
   "cell_type": "code",
   "execution_count": null,
   "id": "ddfed107",
   "metadata": {},
   "outputs": [],
   "source": []
  },
  {
   "cell_type": "code",
   "execution_count": null,
   "id": "6eff6936",
   "metadata": {},
   "outputs": [],
   "source": []
  }
 ],
 "metadata": {
  "kernelspec": {
   "display_name": "Python 3",
   "language": "python",
   "name": "python3"
  },
  "language_info": {
   "codemirror_mode": {
    "name": "ipython",
    "version": 3
   },
   "file_extension": ".py",
   "mimetype": "text/x-python",
   "name": "python",
   "nbconvert_exporter": "python",
   "pygments_lexer": "ipython3",
   "version": "3.8.8"
  }
 },
 "nbformat": 4,
 "nbformat_minor": 5
}
