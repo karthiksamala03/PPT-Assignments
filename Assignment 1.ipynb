{
 "cells": [
  {
   "cell_type": "markdown",
   "id": "c67ff9b8",
   "metadata": {},
   "source": [
    "<aside>\n",
    "💡 **Q1.** Given an array of integers nums and an integer target, return indices of the two numbers such that they add up to target.\n",
    "\n",
    "You may assume that each input would have exactly one solution, and you may not use the same element twice.\n",
    "\n",
    "You can return the answer in any order.\n",
    "\n",
    "**Example:**\n",
    "Input: nums = [2,7,11,15], target = 9\n",
    "Output0 [0,1]\n",
    "\n",
    "</aside>"
   ]
  },
  {
   "cell_type": "code",
   "execution_count": 147,
   "id": "032e35fd",
   "metadata": {},
   "outputs": [
    {
     "data": {
      "text/plain": [
       "[2, 1]"
      ]
     },
     "execution_count": 147,
     "metadata": {},
     "output_type": "execute_result"
    }
   ],
   "source": [
    "\n",
    "def assignment1(nums, target):\n",
    "    hashmap = {}\n",
    "    remain = 0\n",
    "    for i in range(len(nums)):\n",
    "        remain = target - nums[i]\n",
    "        if remain in hashmap:\n",
    "            return [i, hashmap[remain]]\n",
    "        hashmap[nums[i]] = i\n",
    "        \n",
    "\n",
    "# nums = [7,11,2,15] \n",
    "# target = 9\n",
    "nums = [3,2,4] \n",
    "target = 6\n",
    "\n",
    "inter = 0\n",
    "assignment1(nums, target)"
   ]
  },
  {
   "cell_type": "markdown",
   "id": "cccc1b35",
   "metadata": {},
   "source": [
    "Algorithm : While we are iterating over the list and insert elements in the hash table, we also look back to check current element's complement already exists in the hash table. if it exists, we have found a solution and return the indices immediately. <br>\n",
    "$Time Complexity :$ O(n) <br>\n",
    "$Space Complexity :$ O(n)"
   ]
  },
  {
   "cell_type": "markdown",
   "id": "c2036775",
   "metadata": {},
   "source": [
    "<aside>\n",
    "💡 **Q2.** Given an integer array nums and an integer val, remove all occurrences of val in nums in-place. The order of the elements may be changed. Then return the number of elements in nums which are not equal to val.\n",
    "\n",
    "Consider the number of elements in nums which are not equal to val be k, to get accepted, you need to do the following things:\n",
    "\n",
    "- Change the array nums such that the first k elements of nums contain the elements which are not equal to val. The remaining elements of nums are not important as well as the size of nums.\n",
    "- Return k.\n",
    "\n",
    "**Example :**\n",
    "Input: nums = [3,2,2,3], val = 3\n",
    "Output: 2, nums = [2,2,_*,_*]\n",
    "\n",
    "</aside>"
   ]
  },
  {
   "cell_type": "code",
   "execution_count": 148,
   "id": "e5fa6c33",
   "metadata": {},
   "outputs": [
    {
     "name": "stdout",
     "output_type": "stream",
     "text": [
      "2 [2, 2]\n"
     ]
    }
   ],
   "source": [
    "def assignment2(nums, val):\n",
    "    count = 0\n",
    "    for i in range(len(nums)):\n",
    "        if nums[i] != val:\n",
    "            nums[count] = nums[i]\n",
    "            count += 1\n",
    "    return count\n",
    "\n",
    "nums = [3,2,2,3]\n",
    "val = 3\n",
    "count = assignment2(nums, val)\n",
    "print(count, nums[:count])"
   ]
  },
  {
   "cell_type": "markdown",
   "id": "f60c2fcd",
   "metadata": {},
   "source": [
    "Algorithm : While we are iterating over the list and keep track of no. of elements not equal to val and change the value in nums using count value as index. <br>\n",
    "$Time Complexity :$ O(n) <br>\n",
    "$Space Complexity :$ O(1)"
   ]
  },
  {
   "cell_type": "markdown",
   "id": "86b87d3a",
   "metadata": {},
   "source": [
    "<aside>\n",
    "💡 **Q3.** Given a sorted array of distinct integers and a target value, return the index if the target is found. If not, return the index where it would be if it were inserted in order.\n",
    "\n",
    "You must write an algorithm with O(log n) runtime complexity.\n",
    "\n",
    "**Example 1:**\n",
    "Input: nums = [1,3,5,6], target = 5\n",
    "\n",
    "Output: 2\n",
    "\n",
    "</aside>"
   ]
  },
  {
   "cell_type": "code",
   "execution_count": 149,
   "id": "84564930",
   "metadata": {},
   "outputs": [
    {
     "name": "stdout",
     "output_type": "stream",
     "text": [
      "7\n"
     ]
    }
   ],
   "source": [
    "\n",
    "def assignment3(nums, target):\n",
    "    low = 0\n",
    "    high = len(nums) -1\n",
    "    mid = 0\n",
    "    l = len(nums)\n",
    "    while low<=high:\n",
    "        mid = int(low + ((high - low) / 2)) \n",
    "        if nums[mid] < target :\n",
    "            low = mid + 1\n",
    "        elif nums[mid] > target :\n",
    "            high = mid - 1\n",
    "        else:\n",
    "            return mid\n",
    "    return l\n",
    "\n",
    "nums = [1,3,5,6,7,8,10]\n",
    "target = 11\n",
    "print(assignment3(nums, target))\n"
   ]
  },
  {
   "cell_type": "markdown",
   "id": "3417a283",
   "metadata": {},
   "source": [
    "$Time Complexity :$ O(logn) <br>\n",
    "$Space Complexity :$ O(1)"
   ]
  },
  {
   "cell_type": "markdown",
   "id": "27d46feb",
   "metadata": {},
   "source": [
    "<aside>\n",
    "💡 **Q4.** You are given a large integer represented as an integer array digits, where each digits[i] is the ith digit of the integer. The digits are ordered from most significant to least significant in left-to-right order. The large integer does not contain any leading 0's.\n",
    "\n",
    "Increment the large integer by one and return the resulting array of digits.\n",
    "\n",
    "**Example 1:**\n",
    "Input: digits = [1,2,3]\n",
    "Output: [1,2,4]\n",
    "\n",
    "**Explanation:** The array represents the integer 123.\n",
    "\n",
    "Incrementing by one gives 123 + 1 = 124.\n",
    "Thus, the result should be [1,2,4].\n",
    "\n",
    "</aside>"
   ]
  },
  {
   "cell_type": "code",
   "execution_count": 150,
   "id": "7888db6b",
   "metadata": {},
   "outputs": [
    {
     "name": "stdout",
     "output_type": "stream",
     "text": [
      "[1, 0, 0]\n"
     ]
    }
   ],
   "source": [
    "##Brut Force Approch\n",
    "\n",
    "digits = [9,9]\n",
    "value = ''\n",
    "for i in range(len(digits)):\n",
    "    value += str(digits[i]) \n",
    "\n",
    "value = int(value) + 1\n",
    "digits = []\n",
    "for i in str(value):\n",
    "    digits.append(int(i))\n",
    "\n",
    "print(digits)"
   ]
  },
  {
   "cell_type": "code",
   "execution_count": 151,
   "id": "fd7f68d4",
   "metadata": {},
   "outputs": [
    {
     "name": "stdout",
     "output_type": "stream",
     "text": [
      "10\n",
      "10\n"
     ]
    },
    {
     "data": {
      "text/plain": [
       "[1, 0, 0]"
      ]
     },
     "execution_count": 151,
     "metadata": {},
     "output_type": "execute_result"
    }
   ],
   "source": [
    "digits = [9,9]\n",
    "n = len(digits)\n",
    "\n",
    "def ss(digits):\n",
    "    carry = 0\n",
    "    n = len(digits)\n",
    "    for i in reversed(range(n)):\n",
    "        val = digits[i] + carry + 1 if i == n-1 else digits[i] + carry\n",
    "        print(val)\n",
    "        if val <= 9:\n",
    "            digits[i] = val\n",
    "            carry = 0\n",
    "        else:\n",
    "            carry = val // 10\n",
    "            val -= 10\n",
    "            digits[i] = val\n",
    "    if carry:\n",
    "        digits.insert(0, carry)\n",
    "    return digits\n",
    "ss(digits)"
   ]
  },
  {
   "cell_type": "markdown",
   "id": "6c24c8a3",
   "metadata": {},
   "source": [
    "$Time Complexity :$ O(n) <br>\n",
    "$Space Complexity :$ O(1)"
   ]
  },
  {
   "cell_type": "markdown",
   "id": "f82acbe4",
   "metadata": {},
   "source": [
    "<aside>\n",
    "💡 **Q5.** You are given two integer arrays nums1 and nums2, sorted in non-decreasing order, and two integers m and n, representing the number of elements in nums1 and nums2 respectively.\n",
    "\n",
    "Merge nums1 and nums2 into a single array sorted in non-decreasing order.\n",
    "\n",
    "The final sorted array should not be returned by the function, but instead be stored inside the array nums1. To accommodate this, nums1 has a length of m + n, where the first m elements denote the elements that should be merged, and the last n elements are set to 0 and should be ignored. nums2 has a length of n.\n",
    "\n",
    "**Example 1:**\n",
    "Input: nums1 = [1,2,3,0,0,0], m = 3, nums2 = [2,5,6], n = 3\n",
    "Output: [1,2,2,3,5,6]\n",
    "\n",
    "**Explanation:** The arrays we are merging are [1,2,3] and [2,5,6].\n",
    "The result of the merge is [1,2,2,3,5,6] with the underlined elements coming from nums1.\n",
    "\n",
    "</aside>"
   ]
  },
  {
   "cell_type": "code",
   "execution_count": 152,
   "id": "473a0f85",
   "metadata": {},
   "outputs": [
    {
     "name": "stdout",
     "output_type": "stream",
     "text": [
      "[1, 2, 2, 3, 5, 6]\n"
     ]
    }
   ],
   "source": [
    "nums1 = [1,2,3,0,0,0]\n",
    "m = 3\n",
    "nums2 = [2,5,6]\n",
    "n = 3\n",
    "c = 0\n",
    "for i in range(m,len(nums1)):\n",
    "    nums1[i] = nums2[c]\n",
    "    c += 1\n",
    "    \n",
    "nums1.sort()\n",
    "print(nums1)"
   ]
  },
  {
   "cell_type": "markdown",
   "id": "0f338343",
   "metadata": {},
   "source": [
    "Traverse through nums2 and append its elements to the end of nums1 starting from index m.\n",
    "Sort the entire nums1 array using sort() function.\n",
    "$Time Complexity :$ O((m+n)log(m+n)) <br>\n",
    "$Space Complexity :$ O(1)"
   ]
  },
  {
   "cell_type": "markdown",
   "id": "97d4e667",
   "metadata": {},
   "source": [
    "<aside>\n",
    "💡 **Q6.** Given an integer array nums, return true if any value appears at least twice in the array, and return false if every element is distinct.\n",
    "\n",
    "**Example 1:**\n",
    "Input: nums = [1,2,3,1]\n",
    "\n",
    "Output: true\n",
    "\n",
    "</aside>"
   ]
  },
  {
   "cell_type": "code",
   "execution_count": 153,
   "id": "a8fa6a66",
   "metadata": {},
   "outputs": [
    {
     "data": {
      "text/plain": [
       "True"
      ]
     },
     "execution_count": 153,
     "metadata": {},
     "output_type": "execute_result"
    }
   ],
   "source": [
    "nums = [1,2,3,1]\n",
    "\n",
    "def assignment6(nums):\n",
    "    hm = {}\n",
    "    for i in nums:\n",
    "        if i not in hm:\n",
    "            hm[i] = 1\n",
    "        else:\n",
    "            return True\n",
    "    return False\n",
    "\n",
    "assignment6(nums)"
   ]
  },
  {
   "cell_type": "code",
   "execution_count": 154,
   "id": "a892d376",
   "metadata": {},
   "outputs": [
    {
     "data": {
      "text/plain": [
       "True"
      ]
     },
     "execution_count": 154,
     "metadata": {},
     "output_type": "execute_result"
    }
   ],
   "source": [
    "nums = [1,2,3,1]\n",
    "len(set(nums))!=len(nums)"
   ]
  },
  {
   "cell_type": "markdown",
   "id": "5e97e282",
   "metadata": {},
   "source": [
    "$Time Complexity :$ O(n) <br>\n",
    "$Space Complexity :$ O(1)"
   ]
  },
  {
   "cell_type": "markdown",
   "id": "7228f8af",
   "metadata": {},
   "source": [
    "<aside>\n",
    "💡 Given an integer array nums, move all 0's to the end of it while maintaining the relative order of the nonzero elements.\n",
    "\n",
    "Note that you must do this in-place without making a copy of the array.\n",
    "\n",
    "**Example 1:**\n",
    "Input: nums = [0,1,0,3,12]\n",
    "Output: [1,3,12,0,0]\n",
    "\n",
    "</aside>"
   ]
  },
  {
   "cell_type": "code",
   "execution_count": 157,
   "id": "7a2b4540",
   "metadata": {},
   "outputs": [
    {
     "data": {
      "text/plain": [
       "[1, 3, 12, 0, 0]"
      ]
     },
     "execution_count": 157,
     "metadata": {},
     "output_type": "execute_result"
    }
   ],
   "source": [
    "nums = [0,1,0,3,12] \n",
    "n = len(nums)\n",
    "nums = [i for i in nums if i !=0]\n",
    "k = len(nums)\n",
    "[nums.append(0) for i in range(n-k)]\n",
    "\n",
    "nums"
   ]
  },
  {
   "cell_type": "markdown",
   "id": "a57ba3fd",
   "metadata": {},
   "source": [
    "$Time Complexity :$ O(n) <br>\n",
    "$Space Complexity :$ O(1)"
   ]
  },
  {
   "cell_type": "markdown",
   "id": "ef7bdd16",
   "metadata": {},
   "source": [
    "<aside>\n",
    "💡 You have a set of integers s, which originally contains all the numbers from 1 to n. Unfortunately, due to some error, one of the numbers in s got duplicated to another number in the set, which results in repetition of one number and loss of another number.\n",
    "\n",
    "You are given an integer array nums representing the data status of this set after the error.\n",
    "\n",
    "Find the number that occurs twice and the number that is missing and return them in the form of an array.\n",
    "\n",
    "**Example 1:**\n",
    "Input: nums = [1,2,2,4]\n",
    "Output: [2,3]\n",
    "\n",
    "</aside>"
   ]
  },
  {
   "cell_type": "code",
   "execution_count": 156,
   "id": "580f8b68",
   "metadata": {},
   "outputs": [
    {
     "name": "stdout",
     "output_type": "stream",
     "text": [
      "[4, 5]\n"
     ]
    }
   ],
   "source": [
    "#nums = [1,2,2,4]\n",
    "#nums = [2,2,4,5]\n",
    "nums = [2,3,4,4]\n",
    "\n",
    "first = nums[0]\n",
    "n = len(nums)\n",
    "c = 0\n",
    "for i in range(first,first+n):\n",
    "    if i == nums[c]:\n",
    "        c += 1\n",
    "        continue\n",
    "    else:\n",
    "        print([i-1, i])\n",
    "        break"
   ]
  },
  {
   "cell_type": "markdown",
   "id": "e09c974b",
   "metadata": {},
   "source": [
    "$Time Complexity :$ O(n) <br>\n",
    "$Space Complexity :$ O(1)"
   ]
  },
  {
   "cell_type": "code",
   "execution_count": null,
   "id": "86b051b2",
   "metadata": {},
   "outputs": [],
   "source": []
  },
  {
   "cell_type": "code",
   "execution_count": null,
   "id": "316c8cfa",
   "metadata": {},
   "outputs": [],
   "source": []
  }
 ],
 "metadata": {
  "kernelspec": {
   "display_name": "Python 3",
   "language": "python",
   "name": "python3"
  },
  "language_info": {
   "codemirror_mode": {
    "name": "ipython",
    "version": 3
   },
   "file_extension": ".py",
   "mimetype": "text/x-python",
   "name": "python",
   "nbconvert_exporter": "python",
   "pygments_lexer": "ipython3",
   "version": "3.8.8"
  }
 },
 "nbformat": 4,
 "nbformat_minor": 5
}
