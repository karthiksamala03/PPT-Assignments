{
 "cells": [
  {
   "cell_type": "markdown",
   "id": "28c191a4",
   "metadata": {},
   "source": [
    "<aside>\n",
    "💡 **Question 1**\n",
    "Given an integer array nums of 2n integers, group these integers into n pairs (a1, b1), (a2, b2),..., (an, bn) such that the sum of min(ai, bi) for all i is maximized. Return the maximized sum.\n",
    "\n",
    "**Example 1:**\n",
    "Input: nums = [1,4,3,2]\n",
    "Output: 4\n",
    "\n",
    "**Explanation:** All possible pairings (ignoring the ordering of elements) are:\n",
    "\n",
    "1. (1, 4), (2, 3) -> min(1, 4) + min(2, 3) = 1 + 2 = 3\n",
    "2. (1, 3), (2, 4) -> min(1, 3) + min(2, 4) = 1 + 2 = 3\n",
    "3. (1, 2), (3, 4) -> min(1, 2) + min(3, 4) = 1 + 3 = 4\n",
    "So the maximum possible sum is 4\n",
    "</aside>"
   ]
  },
  {
   "cell_type": "code",
   "execution_count": 1,
   "id": "6da06f7c",
   "metadata": {},
   "outputs": [
    {
     "data": {
      "text/plain": [
       "4"
      ]
     },
     "execution_count": 1,
     "metadata": {},
     "output_type": "execute_result"
    }
   ],
   "source": [
    "nums = [1,4,3,2]\n",
    "def assigment1(nums):\n",
    "    nums.sort()\n",
    "    r=0\n",
    "    for i in range(0,len(nums),2):\n",
    "        r+=min(nums[i],nums[i+1])\n",
    "    return(r)\n",
    "\n",
    "assigment1(nums)"
   ]
  },
  {
   "cell_type": "markdown",
   "id": "130e1878",
   "metadata": {},
   "source": [
    "Algorithm : \n",
    "First we are sorting the list.\n",
    "selecing consecutive 2 elemnets to form as one pair and select minimum value in a pair. \n",
    "suming up all values to get maximum value <br>\n",
    "$Time Complexity :$ O(n + nlogn) <br>\n",
    "$Space Complexity :$ O(1)"
   ]
  },
  {
   "cell_type": "markdown",
   "id": "9ac22ce3",
   "metadata": {},
   "source": [
    "<aside>\n",
    "💡 **Question 2**\n",
    "Alice has n candies, where the ith candy is of type candyType[i]. Alice noticed that she started to gain weight, so she visited a doctor. \n",
    "\n",
    "The doctor advised Alice to only eat n / 2 of the candies she has (n is always even). Alice likes her candies very much, and she wants to eat the maximum number of different types of candies while still following the doctor's advice. \n",
    "\n",
    "Given the integer array candyType of length n, return the maximum number of different types of candies she can eat if she only eats n / 2 of them.\n",
    "\n",
    "Example 1:\n",
    "Input: candyType = [1,1,2,2,3,3]\n",
    "Output: 3\n",
    "\n",
    "Explanation: Alice can only eat 6 / 2 = 3 candies. Since there are only 3 types, she can eat one of each type."
   ]
  },
  {
   "cell_type": "code",
   "execution_count": 10,
   "id": "d2e4d8e9",
   "metadata": {},
   "outputs": [
    {
     "data": {
      "text/plain": [
       "4"
      ]
     },
     "execution_count": 10,
     "metadata": {},
     "output_type": "execute_result"
    }
   ],
   "source": [
    "candyType = [1,1,2,2,3,3,4,5]\n",
    "\n",
    "def assignment2(nums):\n",
    "    l = len(nums)\n",
    "    dis = set(nums)\n",
    "    eat = l//2\n",
    "    if eat <= len(dis):\n",
    "        return eat\n",
    "    elif eat > len(dis):\n",
    "        return len(dis)\n",
    "\n",
    "assignment2(candyType)"
   ]
  },
  {
   "cell_type": "markdown",
   "id": "c8a6b61d",
   "metadata": {},
   "source": [
    "$ Algorithm : $\n",
    "Here distinct of CandyType list indicates distinct candies so using set opeartor and storing distinct values in dis set. <br>\n",
    "number of candies she can eat as per doctor advice is stored in eat variable using len(nums)//2 <br>\n",
    "checking condition if eat<= len(dis) then eat else len(dis) <br>\n",
    "$Time Complexity :$ O(n) <br>\n",
    "$Space Complexity :$ O(n)"
   ]
  },
  {
   "cell_type": "markdown",
   "id": "94a41470",
   "metadata": {},
   "source": [
    "<aside>\n",
    "💡 **Question 3**\n",
    "    We define a harmonious array as an array where the difference between its maximum value\n",
    "and its minimum value is exactly 1.\n",
    "\n",
    "Given an integer array nums, return the length of its longest harmonious subsequence\n",
    "among all its possible subsequences.\n",
    "\n",
    "A subsequence of an array is a sequence that can be derived from the array by deleting some or no elements without changing the order of the remaining elements.\n",
    "\n",
    "Example 1:\n",
    "Input: nums = [1,3,2,2,5,2,3,7]\n",
    "Output: 5\n",
    "\n",
    "Explanation: The longest harmonious subsequence is [3,2,2,2,3]."
   ]
  },
  {
   "cell_type": "code",
   "execution_count": 29,
   "id": "4be95d22",
   "metadata": {},
   "outputs": [
    {
     "data": {
      "text/plain": [
       "5"
      ]
     },
     "execution_count": 29,
     "metadata": {},
     "output_type": "execute_result"
    }
   ],
   "source": [
    "nums = [1,3,2,2,5,2,3,7]\n",
    "from collections import Counter\n",
    "def assigment3(nums):\n",
    "    freq = Counter(nums)\n",
    "    max_length = 0\n",
    "\n",
    "    for key in freq:\n",
    "        if key + 1 in freq:\n",
    "            max_length = max(max_length, freq[key] + freq[key+1])\n",
    "\n",
    "    return max_length\n",
    "\n",
    "assigment3(nums)"
   ]
  },
  {
   "cell_type": "markdown",
   "id": "22035e4c",
   "metadata": {},
   "source": [
    "$ Algorithm : $\n",
    "Create a Counter object called freq that counts the frequency of each element in nums.\n",
    "\n",
    "Initialize a variable called max_length to 0.\n",
    "\n",
    "Iterate through each key in freq.\n",
    "\n",
    "If key + 1 is also in freq, update max_length to be the maximum of its current value and the sum of the frequencies of key and key + 1 in freq.\n",
    "Return max_length, which is the length of the longest harmonious subsequence in nums.\n",
    "\n",
    "$Time Complexity :$ O() <br>\n",
    "$Space Complexity :$ O(1)"
   ]
  },
  {
   "cell_type": "markdown",
   "id": "738a02f2",
   "metadata": {},
   "source": [
    "Question 4\n",
    "You have a long flowerbed in which some of the plots are planted, and some are not.\n",
    "However, flowers cannot be planted in adjacent plots.\n",
    "Given an integer array flowerbed containing 0's and 1's, where 0 means empty and 1 means not empty, and an integer n, return true if n new flowers can be planted in the flowerbed without violating the no-adjacent-flowers rule and false otherwise.\n",
    "\n",
    "Example 1:\n",
    "Input: flowerbed = [1,0,0,0,1], n = 1\n",
    "Output: true"
   ]
  },
  {
   "cell_type": "code",
   "execution_count": 14,
   "id": "249f7830",
   "metadata": {},
   "outputs": [
    {
     "data": {
      "text/plain": [
       "True"
      ]
     },
     "execution_count": 14,
     "metadata": {},
     "output_type": "execute_result"
    }
   ],
   "source": [
    "# flowerbed = [1,0,0,0,1]\n",
    "flowerbed = [1,0,0,0,1,0]\n",
    "n = 1\n",
    "\n",
    "def assignment4(nums, n):\n",
    "    count = 0\n",
    "    left_empty_plot = None\n",
    "    right_empty_plot = None\n",
    "    for i in range(len(nums)):\n",
    "        # Checking the plot is empty or not\n",
    "        if nums[i] == 0:\n",
    "            # checking left nad right plots are empty or not\n",
    "            left_empty_plot = (i == 0) or (nums[i-1] == 0)\n",
    "            right_empty_plot = (i == len(nums)-1) or (nums[i+1] == 0)\n",
    "        \n",
    "        if left_empty_plot and right_empty_plot:\n",
    "            count += 1\n",
    "            nums[i] == 1\n",
    "    return count == n\n",
    "\n",
    "assignment4(flowerbed, n)\n",
    "    \n",
    "    "
   ]
  },
  {
   "cell_type": "markdown",
   "id": "5a0e42ae",
   "metadata": {},
   "source": [
    "$ Algorithm : $\n",
    "Traversing the list and checking if the plot ==0, checking left nad right plot are empty. if empty we can plot a plant <br>\n",
    "$Time Complexity :$ O(n) <br>\n",
    "$Space Complexity :$ O(1)"
   ]
  },
  {
   "cell_type": "markdown",
   "id": "eb5b4b5c",
   "metadata": {},
   "source": [
    "Question 5\n",
    "Given an integer array nums, find three numbers whose product is maximum and return the maximum product.\n",
    "\n",
    "Example 1:\n",
    "Input: nums = [1,2,3]\n",
    "Output: 6"
   ]
  },
  {
   "cell_type": "code",
   "execution_count": 20,
   "id": "da6aaaed",
   "metadata": {},
   "outputs": [
    {
     "data": {
      "text/plain": [
       "12"
      ]
     },
     "execution_count": 20,
     "metadata": {},
     "output_type": "execute_result"
    }
   ],
   "source": [
    "# nums = [1,2,3]\n",
    "# nums = [1,2,3,4]\n",
    "nums = [-1,-2,-3,1,2]\n",
    "def assignment5(nums):\n",
    "    #sorting the list\n",
    "    nums.sort()\n",
    "    l = len(nums)\n",
    "    return max((nums[l-1] * nums[l-2] * nums[l-3]), nums[0]*nums[1]*nums[l-1])\n",
    "\n",
    "assignment5(nums)"
   ]
  },
  {
   "cell_type": "markdown",
   "id": "e9c7a957",
   "metadata": {},
   "source": [
    "$ Algorithm : $\n",
    "First we are sorting the list. <br>\n",
    "Next we are doing product of last 3 elements and first 2 elements(we have negative numbers to become a psitive number) and last element <br>\n",
    "selecting max of both the products <br>\n",
    "$Time Complexity :$ O(nlog(n)) <br>\n",
    "$Space Complexity :$ O(1)"
   ]
  },
  {
   "cell_type": "markdown",
   "id": "e9eaa710",
   "metadata": {},
   "source": [
    "Question 6\n",
    "Given an array of integers nums which is sorted in ascending order, and an integer target,\n",
    "write a function to search target in nums. If target exists, then return its index. Otherwise,\n",
    "return -1.\n",
    "\n",
    "You must write an algorithm with O(log n) runtime complexity.\n",
    "\n",
    "Input: nums = [-1,0,3,5,9,12], target = 9\n",
    "Output: 4\n",
    "\n",
    "Explanation: 9 exists in nums and its index is 4"
   ]
  },
  {
   "cell_type": "code",
   "execution_count": 27,
   "id": "12ef491b",
   "metadata": {},
   "outputs": [
    {
     "data": {
      "text/plain": [
       "-1"
      ]
     },
     "execution_count": 27,
     "metadata": {},
     "output_type": "execute_result"
    }
   ],
   "source": [
    "nums = [-1,0,3,5,9,12]\n",
    "target = 13\n",
    "def binary_search(nums, target):\n",
    "    low = 0\n",
    "    high = len(nums)-1\n",
    "    while (low < high):\n",
    "        mid = low+ (high-low)//2\n",
    "        if target < nums[mid]:\n",
    "            high = mid -1\n",
    "        elif target > nums[mid]:\n",
    "            low = low + 1\n",
    "        else:\n",
    "            return mid\n",
    "    return -1\n",
    "        \n",
    "binary_search(nums, target)"
   ]
  },
  {
   "cell_type": "markdown",
   "id": "02372881",
   "metadata": {},
   "source": [
    "$ Algorithm :$ Binary Search <br>\n",
    "$Time Complexity :$ O(logn) <br>\n",
    "$Space Complexity :$ O(1)"
   ]
  },
  {
   "cell_type": "markdown",
   "id": "5c700fe7",
   "metadata": {},
   "source": [
    "Question 7\n",
    "An array is monotonic if it is either monotone increasing or monotone decreasing.\n",
    "\n",
    "An array nums is monotone increasing if for all i <= j, nums[i] <= nums[j]. An array nums is\n",
    "monotone decreasing if for all i <= j, nums[i] >= nums[j].\n",
    "\n",
    "Given an integer array nums, return true if the given array is monotonic, or false otherwise.\n",
    "\n",
    "Example 1:\n",
    "Input: nums = [1,2,2,3]\n",
    "Output: true"
   ]
  },
  {
   "cell_type": "code",
   "execution_count": 21,
   "id": "1e214c54",
   "metadata": {},
   "outputs": [
    {
     "data": {
      "text/plain": [
       "False"
      ]
     },
     "execution_count": 21,
     "metadata": {},
     "output_type": "execute_result"
    }
   ],
   "source": [
    "# nums = [1,2,2,3] \n",
    "# nums = [1,2,2,2,3] \n",
    "# nums = [3,2,2,1] \n",
    "nums = [3,12,1] \n",
    "def assignment(nums):\n",
    "    inc = True\n",
    "    dec = True\n",
    "    l = len(nums)\n",
    "    for i in range(l-1):\n",
    "        # To check if array is not increaseing\n",
    "        if nums[i] > nums[i+1]:\n",
    "            inc = False\n",
    "            \n",
    "    for i in range(l-1):\n",
    "        # To check if array is not decreasing\n",
    "        if nums[i] < nums[i+1]:\n",
    "            dec = False\n",
    "    return inc or dec\n",
    "\n",
    "assignment(nums)\n",
    "    "
   ]
  },
  {
   "cell_type": "markdown",
   "id": "6f7d27be",
   "metadata": {},
   "source": [
    "$ Algorithm :$ \n",
    "checking 2 orders \n",
    "1. increasing order : 1st for loop - to check current element is less than next element<br>\n",
    "2. decresing order : 2nd for loop - to check current element is greater than next element<br>\n",
    "$Time Complexity :$ O(n) <br>\n",
    "$Space Complexity :$ O(1)"
   ]
  },
  {
   "cell_type": "markdown",
   "id": "38c8e238",
   "metadata": {},
   "source": [
    "Question 8\n",
    "You are given an integer array nums and an integer k.\n",
    "\n",
    "In one operation, you can choose any index i where 0 <= i < nums.length and change nums[i] to nums[i] + x where x is an integer from the range [-k, k]. You can apply this operation at most once for each index i.\n",
    "\n",
    "The score of nums is the difference between the maximum and minimum elements in nums.\n",
    "\n",
    "Return the minimum score of nums after applying the mentioned operation at most once for each index in it.\n",
    "\n",
    "Example 1:\n",
    "Input: nums = [1], k = 0\n",
    "Output: 0\n",
    "\n",
    "Explanation: The score is max(nums) - min(nums) = 1 - 1 = 0."
   ]
  },
  {
   "cell_type": "code",
   "execution_count": 26,
   "id": "151ef918",
   "metadata": {},
   "outputs": [
    {
     "data": {
      "text/plain": [
       "6"
      ]
     },
     "execution_count": 26,
     "metadata": {},
     "output_type": "execute_result"
    }
   ],
   "source": [
    "nums = [1]\n",
    "k = 0\n",
    "nums = [0,10]\n",
    "k = 2\n",
    "def assignment8(nums, k):\n",
    "    x=max(nums)\n",
    "    y=min(nums)\n",
    "    return max(0,(x-k)-(y+k))\n",
    "\n",
    "assignment8(nums, k)"
   ]
  },
  {
   "cell_type": "code",
   "execution_count": null,
   "id": "76d836a5",
   "metadata": {},
   "outputs": [],
   "source": []
  }
 ],
 "metadata": {
  "kernelspec": {
   "display_name": "Python 3",
   "language": "python",
   "name": "python3"
  },
  "language_info": {
   "codemirror_mode": {
    "name": "ipython",
    "version": 3
   },
   "file_extension": ".py",
   "mimetype": "text/x-python",
   "name": "python",
   "nbconvert_exporter": "python",
   "pygments_lexer": "ipython3",
   "version": "3.8.8"
  }
 },
 "nbformat": 4,
 "nbformat_minor": 5
}
