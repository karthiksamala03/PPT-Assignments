{
 "cells": [
  {
   "cell_type": "markdown",
   "id": "12e68850",
   "metadata": {},
   "source": [
    "<aside>\n",
    "💡 **Question 1**\n",
    "\n",
    "Given two strings s and t, *determine if they are isomorphic*.\n",
    "\n",
    "Two strings s and t are isomorphic if the characters in s can be replaced to get t.\n",
    "\n",
    "All occurrences of a character must be replaced with another character while preserving the order of characters. No two characters may map to the same character, but a character may map to itself.\n",
    "\n",
    "**Example 1:**\n",
    "\n",
    "**Input:** s = \"egg\", t = \"add\"\n",
    "\n",
    "**Output:** true\n",
    "\n",
    "</aside>\n"
   ]
  },
  {
   "cell_type": "code",
   "execution_count": 32,
   "id": "6233206f",
   "metadata": {},
   "outputs": [
    {
     "data": {
      "text/plain": [
       "True"
      ]
     },
     "execution_count": 32,
     "metadata": {},
     "output_type": "execute_result"
    }
   ],
   "source": [
    "\n",
    "def assignment1(s,t):\n",
    "    hm1 = {}\n",
    "    hm2 = {}\n",
    "    for c1, c2 in zip(s, t):\n",
    "        # Case 1: No mapping exists in either of the dictionaries\n",
    "        if c1 not in hm1 and c2 not in hm2:\n",
    "            hm1[c1] = c2\n",
    "            hm2[c2] = c1\n",
    "        # Case 2: Ether mapping doesn't exist in one of the dictionaries or Mapping exists and\n",
    "        # it doesn't match in either of the dictionaries or both  \n",
    "        elif hm1.get(c1) != c2 or hm2.get(c2) != c1:\n",
    "            return False\n",
    "    return True\n",
    "\n",
    "s = \"egg\"\n",
    "t = \"add\"\n",
    "# s = \"badc\"\n",
    "# t = \"baba\"\n",
    "assignment1(s,t)"
   ]
  },
  {
   "cell_type": "code",
   "execution_count": null,
   "id": "e3a72d37",
   "metadata": {},
   "outputs": [],
   "source": []
  },
  {
   "cell_type": "markdown",
   "id": "fe337e31",
   "metadata": {},
   "source": [
    "<aside>\n",
    "💡 **Question 2**\n",
    "\n",
    "Given a string num which represents an integer, return true *if* num *is a **strobogrammatic number***.\n",
    "\n",
    "A **strobogrammatic number** is a number that looks the same when rotated 180 degrees (looked at upside down).\n",
    "\n",
    "**Example 1:**\n",
    "\n",
    "**Input:** num = \"69\"\n",
    "\n",
    "**Output:**\n",
    "\n",
    "true\n",
    "\n",
    "</aside>"
   ]
  },
  {
   "cell_type": "code",
   "execution_count": 65,
   "id": "f3f31853",
   "metadata": {},
   "outputs": [
    {
     "data": {
      "text/plain": [
       "False"
      ]
     },
     "execution_count": 65,
     "metadata": {},
     "output_type": "execute_result"
    }
   ],
   "source": [
    "def assignment2(num):\n",
    "    contain = ['0', '1', '8', '6', '9']\n",
    "    res = \"\"\n",
    "    for i in range(len(num)-1,-1,-1):\n",
    "        if num[i] in contain:\n",
    "            if num[i] == '6':\n",
    "                res += num[i].replace('6','9')\n",
    "            elif num[i] == '9':\n",
    "                res += num[i].replace('9','6')\n",
    "            else:\n",
    "                res += num[i]\n",
    "        else:\n",
    "            return False\n",
    "    if num == res:\n",
    "        print(True)\n",
    "    else:\n",
    "        print(False)\n",
    "        \n",
    "num = \"6119\"\n",
    "assignment2(num)"
   ]
  },
  {
   "cell_type": "code",
   "execution_count": null,
   "id": "c69f2cc2",
   "metadata": {},
   "outputs": [],
   "source": []
  },
  {
   "cell_type": "markdown",
   "id": "d84ec604",
   "metadata": {},
   "source": [
    "<aside>\n",
    "💡 **Question 3**\n",
    "\n",
    "Given two non-negative integers, num1 and num2 represented as string, return *the sum of* num1 *and* num2 *as a string*.\n",
    "\n",
    "You must solve the problem without using any built-in library for handling large integers (such as BigInteger). You must also not convert the inputs to integers directly.\n",
    "\n",
    "**Example 1:**\n",
    "\n",
    "**Input:** num1 = \"11\", num2 = \"123\"\n",
    "\n",
    "**Output:**\n",
    "\n",
    "\"134\"\n",
    "\n",
    "</aside>"
   ]
  },
  {
   "cell_type": "code",
   "execution_count": 93,
   "id": "8958670c",
   "metadata": {},
   "outputs": [
    {
     "data": {
      "text/plain": [
       "'498'"
      ]
     },
     "execution_count": 93,
     "metadata": {},
     "output_type": "execute_result"
    }
   ],
   "source": [
    "\n",
    "def assignment3(num1, num2):\n",
    "    num1 = num1[::-1]\n",
    "    num2 = num2[::-1]\n",
    "    if len(num1) < len(num2):\n",
    "        num1 += '0'*(len(num2) - len(num1))\n",
    "    else:\n",
    "        num2 += '0' * (len(num1) - len(num2))\n",
    "\n",
    "    result = ''\n",
    "    carry = 0\n",
    "    for i in range(len(num1)):\n",
    "        addi = int(num1[i]) + int(num2[i]) + carry\n",
    "        carry = addi//10\n",
    "        result += str(addi%10)\n",
    "\n",
    "    if carry !=0:\n",
    "        result += str(carry)\n",
    "\n",
    "    return result[::-1]\n",
    "        \n",
    "num1 = \"99\"\n",
    "num2 = \"399\"\n",
    "assignment3(num1, num2)\n",
    "\n",
    "#  399\n",
    "#  099\n",
    "# 1389"
   ]
  },
  {
   "cell_type": "markdown",
   "id": "aa0eb590",
   "metadata": {},
   "source": [
    "<aside>\n",
    "💡 **Question 4**\n",
    "\n",
    "Given a string s, reverse the order of characters in each word within a sentence while still preserving whitespace and initial word order.\n",
    "\n",
    "**Example 1:**\n",
    "\n",
    "**Input:** s = \"Let's take LeetCode contest\"\n",
    "\n",
    "**Output:** \"s'teL ekat edoCteeL tsetnoc\"\n",
    "\n",
    "</aside>"
   ]
  },
  {
   "cell_type": "code",
   "execution_count": 99,
   "id": "9fcec629",
   "metadata": {},
   "outputs": [
    {
     "data": {
      "text/plain": [
       "\"s'teL ekat edoCteeL tsetnoc\""
      ]
     },
     "execution_count": 99,
     "metadata": {},
     "output_type": "execute_result"
    }
   ],
   "source": [
    "s = \"Let's take LeetCode contest\"\n",
    "' '.join([i[::-1] for i in s.split(\" \")])"
   ]
  },
  {
   "cell_type": "markdown",
   "id": "284f189f",
   "metadata": {},
   "source": [
    "<aside>\n",
    "💡 **Question 5**\n",
    "\n",
    "Given a string s and an integer k, reverse the first k characters for every 2k characters counting from the start of the string.\n",
    "\n",
    "If there are fewer than k characters left, reverse all of them. If there are less than 2k but greater than or equal to k characters, then reverse the first k characters and leave the other as original.\n",
    "\n",
    "**Example 1:**\n",
    "\n",
    "**Input:** s = \"abcdefg\", k = 2\n",
    "\n",
    "**Output:**\n",
    "\n",
    "\"bacdfeg\"\n",
    "\n",
    "</aside>"
   ]
  },
  {
   "cell_type": "code",
   "execution_count": 157,
   "id": "82b68b06",
   "metadata": {},
   "outputs": [
    {
     "data": {
      "text/plain": [
       "'bacdfeg'"
      ]
     },
     "execution_count": 157,
     "metadata": {},
     "output_type": "execute_result"
    }
   ],
   "source": [
    "def assignment5(s, k):\n",
    "    res = ''\n",
    "    flag = 0\n",
    "    for i in range(0,len(s),k):\n",
    "        if flag%2 == 0:\n",
    "            res += (s[i:i+k][::-1])\n",
    "        else:\n",
    "            res += (s[i:i+k])\n",
    "        flag += 1\n",
    "\n",
    "    return res\n",
    "\n",
    "s = \"abcdefg\"\n",
    "k = 2\n",
    "assignment5(s, k)"
   ]
  },
  {
   "cell_type": "markdown",
   "id": "9cb0ac22",
   "metadata": {},
   "source": [
    "<aside>\n",
    "💡 **Question 6**\n",
    "\n",
    "Given two strings s and goal, return true *if and only if* s *can become* goal *after some number of **shifts** on* s.\n",
    "\n",
    "A **shift** on s consists of moving the leftmost character of s to the rightmost position.\n",
    "\n",
    "- For example, if s = \"abcde\", then it will be \"bcdea\" after one shift.\n",
    "\n",
    "**Example 1:**\n",
    "\n",
    "**Input:** s = \"abcde\", goal = \"cdeab\"\n",
    "\n",
    "**Output:**\n",
    "\n",
    "true\n",
    "\n",
    "</aside>"
   ]
  },
  {
   "cell_type": "code",
   "execution_count": 168,
   "id": "7c4ecdc9",
   "metadata": {},
   "outputs": [
    {
     "data": {
      "text/plain": [
       "True"
      ]
     },
     "execution_count": 168,
     "metadata": {},
     "output_type": "execute_result"
    }
   ],
   "source": [
    "def assignment6(s, goal):\n",
    "    if s == goal:\n",
    "        return True\n",
    "    for i in range(len(s)):\n",
    "        if s[i:] + s[:i] == goal[:]:\n",
    "            return True\n",
    "    \n",
    "    return False\n",
    "\n",
    "s = \"abcde\"\n",
    "goal = \"cdeab\"\n",
    "\n",
    "assignment6(s, goal)"
   ]
  },
  {
   "attachments": {},
   "cell_type": "markdown",
   "id": "217b7f68",
   "metadata": {},
   "source": [
    "<aside>\n",
    "💡 **Question 7**\n",
    "\n",
    "Given two strings s and t, return true *if they are equal when both are typed into empty text editors*. '#' means a backspace character.\n",
    "\n",
    "Note that after backspacing an empty text, the text will continue empty.\n",
    "\n",
    "**Example 1:**\n",
    "    \n",
    "**Input:** s = \"ab#c\", t = \"ad#c\"\n",
    "\n",
    "**Output:** true\n",
    "\n",
    "**Explanation:**\n",
    "\n",
    "Both s and t become \"ac\".\n",
    "\n",
    "</aside>"
   ]
  },
  {
   "cell_type": "code",
   "execution_count": 250,
   "id": "222980a6",
   "metadata": {},
   "outputs": [
    {
     "data": {
      "text/plain": [
       "True"
      ]
     },
     "execution_count": 250,
     "metadata": {},
     "output_type": "execute_result"
    }
   ],
   "source": [
    "s = \"#ab#c\"\n",
    "t = \"#ad#c\"\n",
    "\n",
    "def func(s):\n",
    "    s1 = []\n",
    "    for i in s:\n",
    "        if i != '#':\n",
    "            s1.append(i)\n",
    "        elif s1:\n",
    "            s1.pop()\n",
    "    return ''.join(s1)\n",
    "        \n",
    "func(s) == func(t)"
   ]
  },
  {
   "attachments": {
    "image.png": {
     "image/png": "[encoded data removed]"
    }
   },
   "cell_type": "markdown",
   "id": "2eecb2e5",
   "metadata": {},
   "source": [
    "<aside>\n",
    "💡 **Question 8**\n",
    "\n",
    "You are given an array coordinates, coordinates[i] = [x, y], where [x, y] represents the coordinate of a point. Check if these points make a straight line in the XY plane.\n",
    "\n",
    "**Example 1:**\n",
    "\n",
    "![image.png](attachment:image.png)\n",
    "\n",
    "**Input:** coordinates = [[1,2],[2,3],[3,4],[4,5],[5,6],[6,7]]\n",
    "\n",
    "**Output:** true\n",
    "\n",
    "</aside>"
   ]
  },
  {
   "cell_type": "code",
   "execution_count": 228,
   "id": "670dbf14",
   "metadata": {},
   "outputs": [
    {
     "data": {
      "text/plain": [
       "True"
      ]
     },
     "execution_count": 228,
     "metadata": {},
     "output_type": "execute_result"
    }
   ],
   "source": [
    "def assignment8(coordinates):\n",
    "    y = coordinates[1][1] - coordinates[0][1]\n",
    "    x = coordinates[1][0] - coordinates[0][0]\n",
    "    if x!=0:\n",
    "        slope = y/x\n",
    "    else:\n",
    "        slope = float('inf')\n",
    "\n",
    "    for i in range(1,len(coordinates)-1): \n",
    "        y = coordinates[i+1][1] - coordinates[i][1]\n",
    "        x = coordinates[i+1][0] - coordinates[i][0]\n",
    "\n",
    "        if x!=0:\n",
    "            slo = y/x\n",
    "\n",
    "        elif x == 0 :\n",
    "            slo = float('inf')\n",
    "\n",
    "        if slope != slo:\n",
    "            return False\n",
    "\n",
    "    return True\n",
    "\n",
    "coordinates = [[1,2],[2,3],[3,4],[4,5],[5,6],[6,7]] #true\n",
    "coordinates = [[0,0],[0,5],[5,5],[5,0]] #false\n",
    "coordinates = [[0,0],[0,1],[0,-1]] #true\n",
    "coordinates = [[1,2],[2,3]] #true\n",
    "assignment8(coordinates)"
   ]
  },
  {
   "cell_type": "code",
   "execution_count": null,
   "id": "3b590e50",
   "metadata": {},
   "outputs": [],
   "source": []
  }
 ],
 "metadata": {
  "kernelspec": {
   "display_name": "Python 3",
   "language": "python",
   "name": "python3"
  },
  "language_info": {
   "codemirror_mode": {
    "name": "ipython",
    "version": 3
   },
   "file_extension": ".py",
   "mimetype": "text/x-python",
   "name": "python",
   "nbconvert_exporter": "python",
   "pygments_lexer": "ipython3",
   "version": "3.8.8"
  }
 },
 "nbformat": 4,
 "nbformat_minor": 5
}
